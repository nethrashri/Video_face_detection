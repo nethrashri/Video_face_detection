{
 "cells": [
  {
   "cell_type": "code",
   "execution_count": 8,
   "id": "916dbe37-df28-460b-9fb3-1e3c0f584faa",
   "metadata": {
    "tags": []
   },
   "outputs": [
    {
     "name": "stdout",
     "output_type": "stream",
     "text": [
      "Enabling notebook extension jupyter-js-widgets/extension...\n",
      "      - Validating: \u001b[32mOK\u001b[0m\n"
     ]
    }
   ],
   "source": [
    "!jupyter nbextension enable --py widgetsnbextension\n"
   ]
  },
  {
   "cell_type": "code",
   "execution_count": 9,
   "id": "efc75d59-ec11-42bb-9a0e-8166d4a5b90e",
   "metadata": {
    "tags": []
   },
   "outputs": [
    {
     "name": "stdout",
     "output_type": "stream",
     "text": [
      "Requirement already satisfied: jupyterlab-widgets in /Users/nethrashri/anaconda3/lib/python3.11/site-packages (3.0.5)\n",
      "Note: you may need to restart the kernel to use updated packages.\n"
     ]
    }
   ],
   "source": [
    "pip install jupyterlab-widgets\n"
   ]
  },
  {
   "cell_type": "code",
   "execution_count": 12,
   "id": "42de9e39-e206-4ad6-8bbc-4edabbb8afd7",
   "metadata": {
    "tags": []
   },
   "outputs": [
    {
     "name": "stdout",
     "output_type": "stream",
     "text": [
      "Known nbextensions:\n",
      "  config dir: /Users/nethrashri/.jupyter/nbconfig\n",
      "    notebook section\n",
      "      jupyter-js-widgets/extension \u001b[32m enabled \u001b[0m\n",
      "      - Validating: \u001b[32mOK\u001b[0m\n",
      "  config dir: /Users/nethrashri/anaconda3/etc/jupyter/nbconfig\n",
      "    notebook section\n",
      "      jupyterlab-plotly/extension \u001b[32m enabled \u001b[0m\n",
      "      - Validating: \u001b[32mOK\u001b[0m\n",
      "      pydeck/extension \u001b[32m enabled \u001b[0m\n",
      "      - Validating: problems found:\n",
      "        - require? \u001b[31m X\u001b[0m pydeck/extension\n",
      "      jupyter-js-widgets/extension \u001b[32m enabled \u001b[0m\n",
      "      - Validating: \u001b[32mOK\u001b[0m\n"
     ]
    }
   ],
   "source": [
    "!jupyter nbextension list\n"
   ]
  },
  {
   "cell_type": "code",
   "execution_count": 13,
   "id": "2ddc475f-34a1-4d7f-95ad-6e50649da3f0",
   "metadata": {
    "tags": []
   },
   "outputs": [
    {
     "name": "stdout",
     "output_type": "stream",
     "text": [
      "Enabling notebook extension jupyter-js-widgets/extension...\n",
      "      - Validating: \u001b[32mOK\u001b[0m\n"
     ]
    }
   ],
   "source": [
    "!jupyter nbextension enable --py widgetsnbextension --sys-prefix\n"
   ]
  },
  {
   "cell_type": "code",
   "execution_count": 7,
   "id": "e1d297fe-d394-45aa-9b1a-faaba3b13ae7",
   "metadata": {
    "tags": []
   },
   "outputs": [
    {
     "data": {
      "application/vnd.jupyter.widget-view+json": {
       "model_id": "1b57ff3b06a643eb9d96647e99194879",
       "version_major": 2,
       "version_minor": 0
      },
      "text/plain": [
       "FileUpload(value=(), accept='image/*', description='Upload')"
      ]
     },
     "metadata": {},
     "output_type": "display_data"
    },
    {
     "data": {
      "application/vnd.jupyter.widget-view+json": {
       "model_id": "6b23cf39597f456c8fc92bdee0754382",
       "version_major": 2,
       "version_minor": 0
      },
      "text/plain": [
       "Output()"
      ]
     },
     "metadata": {},
     "output_type": "display_data"
    }
   ],
   "source": [
    "import ipywidgets as widgets\n",
    "from IPython.display import display, clear_output\n",
    "\n",
    "# Create a file upload button\n",
    "upload_button = widgets.FileUpload(accept='image/*', multiple=False)\n",
    "output_area = widgets.Output()\n",
    "\n",
    "def on_upload_change(change):\n",
    "    with output_area:\n",
    "        clear_output()\n",
    "        print(\"Uploaded file structure:\")\n",
    "        # Display the structure of the uploaded file data\n",
    "        print(upload_button.value)\n",
    "\n",
    "# Register the callback for the upload button\n",
    "upload_button.observe(on_upload_change, names='value')\n",
    "\n",
    "# Display the upload button and output area\n",
    "display(upload_button, output_area)\n"
   ]
  },
  {
   "cell_type": "code",
   "execution_count": 8,
   "id": "5fc59d0d-8135-4bbb-aff8-01cdcdda30e6",
   "metadata": {
    "tags": []
   },
   "outputs": [
    {
     "data": {
      "application/vnd.jupyter.widget-view+json": {
       "model_id": "59816df9538f430ebeb29e68556ea49b",
       "version_major": 2,
       "version_minor": 0
      },
      "text/plain": [
       "FileUpload(value=(), accept='image/*', description='Upload')"
      ]
     },
     "metadata": {},
     "output_type": "display_data"
    },
    {
     "data": {
      "application/vnd.jupyter.widget-view+json": {
       "model_id": "52b8356b06a94096aebb8d072bff5d87",
       "version_major": 2,
       "version_minor": 0
      },
      "text/plain": [
       "Button(description='Submit', style=ButtonStyle())"
      ]
     },
     "metadata": {},
     "output_type": "display_data"
    },
    {
     "data": {
      "application/vnd.jupyter.widget-view+json": {
       "model_id": "3fda7aadef8d493995f375426c7b0b8f",
       "version_major": 2,
       "version_minor": 0
      },
      "text/plain": [
       "Output()"
      ]
     },
     "metadata": {},
     "output_type": "display_data"
    }
   ],
   "source": [
    "import cv2\n",
    "from fer import FER\n",
    "import numpy as np\n",
    "from collections import Counter\n",
    "from IPython.display import display, Image, clear_output\n",
    "import PIL.Image\n",
    "import io\n",
    "import ipywidgets as widgets\n",
    "import json\n",
    "\n",
    "# Initialize FER emotion detector\n",
    "emotion_detector = FER(mtcnn=True)\n",
    "\n",
    "# Widgets for file upload and processing\n",
    "upload_button = widgets.FileUpload(accept='image/*', multiple=False)\n",
    "submit_button = widgets.Button(description='Submit')\n",
    "output_area = widgets.Output()\n",
    "\n",
    "uploaded_file = None\n",
    "\n",
    "def analyze_image_emotions(image_file_content):\n",
    "    print(\"Starting emotion analysis...\")\n",
    "    emotion_sums = {\n",
    "        'angry': 0,\n",
    "        'disgust': 0,\n",
    "        'fear': 0,\n",
    "        'happy': 0,\n",
    "        'sad': 0,\n",
    "        'surprise': 0,\n",
    "        'neutral': 0\n",
    "    }\n",
    "    all_emotions = []\n",
    "\n",
    "    # Convert the uploaded file content to an image\n",
    "    image_stream = io.BytesIO(image_file_content)\n",
    "    image_pil = PIL.Image.open(image_stream)\n",
    "    image_np = np.array(image_pil)\n",
    "\n",
    "    # Convert the image from RGB (PIL) to BGR (OpenCV)\n",
    "    image_bgr = cv2.cvtColor(image_np, cv2.COLOR_RGB2BGR)\n",
    "\n",
    "    # Resize the image to a consistent size for analysis\n",
    "    height, width = image_bgr.shape[:2]\n",
    "    aspect_ratio = width / height\n",
    "    new_height = 480\n",
    "    new_width = int(new_height * aspect_ratio)\n",
    "    image_resized = cv2.resize(image_bgr, (new_width, new_height))\n",
    "\n",
    "    # Analyze the emotions in the image\n",
    "    emotions = emotion_detector.detect_emotions(image_resized)\n",
    "    if emotions:\n",
    "        dominant_emotion = max(emotions[0]['emotions'], key=emotions[0]['emotions'].get)\n",
    "        all_emotions.append(dominant_emotion)\n",
    "        for emotion, score in emotions[0]['emotions'].items():\n",
    "            emotion_sums[emotion] += score\n",
    "\n",
    "        # Determine the predominant emotion\n",
    "        emotion_counts = Counter(all_emotions)\n",
    "        predominant_emotion = emotion_counts.most_common(1)[0][0] if all_emotions else None\n",
    "\n",
    "        return {\n",
    "            \"predominant_emotion\": predominant_emotion,\n",
    "            \"emotions\": emotion_sums\n",
    "        }\n",
    "    else:\n",
    "        return None\n",
    "\n",
    "def on_upload_change(change):\n",
    "    global uploaded_file\n",
    "    with output_area:\n",
    "        clear_output()\n",
    "        if upload_button.value:\n",
    "            # Access the first element in the tuple and extract 'content'\n",
    "            uploaded_file = upload_button.value[0]['content']\n",
    "            print(\"File uploaded successfully. Please click 'Submit' to process.\")\n",
    "        else:\n",
    "            print(\"Please upload a file.\")\n",
    "\n",
    "def on_submit_click(b):\n",
    "    with output_area:\n",
    "        if uploaded_file:\n",
    "            clear_output()\n",
    "            print(\"Processing the file...\")\n",
    "            result = analyze_image_emotions(uploaded_file)\n",
    "            if result:\n",
    "                print(\"Here is the result in JSON format:\")\n",
    "                print(json.dumps(result, indent=4))\n",
    "            else:\n",
    "                print(\"No emotions detected.\")\n",
    "        else:\n",
    "            clear_output()\n",
    "            print(\"Please upload a file first.\")\n",
    "\n",
    "# Register the callback for the upload and submit buttons\n",
    "upload_button.observe(on_upload_change, names='value')\n",
    "submit_button.on_click(on_submit_click)\n",
    "\n",
    "# Display the widgets and the output area\n",
    "display(upload_button, submit_button, output_area)\n"
   ]
  },
  {
   "cell_type": "code",
   "execution_count": 9,
   "id": "a2df5e84-a294-479c-a61d-7b0afd5e0759",
   "metadata": {
    "tags": []
   },
   "outputs": [
    {
     "data": {
      "application/vnd.jupyter.widget-view+json": {
       "model_id": "a3c22239df3b498a86f89ad991f132a3",
       "version_major": 2,
       "version_minor": 0
      },
      "text/plain": [
       "FileUpload(value=(), accept='image/*', description='Upload')"
      ]
     },
     "metadata": {},
     "output_type": "display_data"
    },
    {
     "data": {
      "application/vnd.jupyter.widget-view+json": {
       "model_id": "0f95d683c9ed4073a5391c4116969229",
       "version_major": 2,
       "version_minor": 0
      },
      "text/plain": [
       "Button(description='Submit', style=ButtonStyle())"
      ]
     },
     "metadata": {},
     "output_type": "display_data"
    },
    {
     "data": {
      "application/vnd.jupyter.widget-view+json": {
       "model_id": "204ac8ebe3ab4704a7999e76152863fa",
       "version_major": 2,
       "version_minor": 0
      },
      "text/plain": [
       "Output()"
      ]
     },
     "metadata": {},
     "output_type": "display_data"
    }
   ],
   "source": [
    "import cv2\n",
    "from fer import FER\n",
    "import numpy as np\n",
    "from collections import Counter\n",
    "from IPython.display import display, Image, clear_output\n",
    "import PIL.Image\n",
    "import io\n",
    "import ipywidgets as widgets\n",
    "import json\n",
    "\n",
    "# Initialize FER emotion detector\n",
    "emotion_detector = FER(mtcnn=True)\n",
    "\n",
    "# Widgets for file upload and processing\n",
    "upload_button = widgets.FileUpload(accept='image/*', multiple=False)\n",
    "submit_button = widgets.Button(description='Submit')\n",
    "output_area = widgets.Output()\n",
    "\n",
    "uploaded_file_content = None\n",
    "uploaded_file_name = None\n",
    "\n",
    "def analyze_image_emotions(image_file_content):\n",
    "    emotion_sums = {\n",
    "        'angry': 0,\n",
    "        'disgust': 0,\n",
    "        'fear': 0,\n",
    "        'happy': 0,\n",
    "        'sad': 0,\n",
    "        'surprise': 0,\n",
    "        'neutral': 0\n",
    "    }\n",
    "    all_emotions = []\n",
    "\n",
    "    # Convert the uploaded file content to an image\n",
    "    image_stream = io.BytesIO(image_file_content)\n",
    "    image_pil = PIL.Image.open(image_stream)\n",
    "    image_np = np.array(image_pil)\n",
    "\n",
    "    # Convert the image from RGB (PIL) to BGR (OpenCV)\n",
    "    image_bgr = cv2.cvtColor(image_np, cv2.COLOR_RGB2BGR)\n",
    "\n",
    "    # Resize the image to a consistent size for analysis\n",
    "    height, width = image_bgr.shape[:2]\n",
    "    aspect_ratio = width / height\n",
    "    new_height = 480\n",
    "    new_width = int(new_height * aspect_ratio)\n",
    "    image_resized = cv2.resize(image_bgr, (new_width, new_height))\n",
    "\n",
    "    # Analyze the emotions in the image\n",
    "    emotions = emotion_detector.detect_emotions(image_resized)\n",
    "    if emotions:\n",
    "        dominant_emotion = max(emotions[0]['emotions'], key=emotions[0]['emotions'].get)\n",
    "        all_emotions.append(dominant_emotion)\n",
    "        for emotion, score in emotions[0]['emotions'].items():\n",
    "            emotion_sums[emotion] += score\n",
    "\n",
    "        # Determine the predominant emotion\n",
    "        emotion_counts = Counter(all_emotions)\n",
    "        predominant_emotion = emotion_counts.most_common(1)[0][0] if all_emotions else None\n",
    "\n",
    "        return {\n",
    "            \"filename\": uploaded_file_name,\n",
    "            \"predominant_emotion\": predominant_emotion,\n",
    "            \"emotions\": emotion_sums\n",
    "        }\n",
    "    else:\n",
    "        return {\n",
    "            \"filename\": uploaded_file_name,\n",
    "            \"predominant_emotion\": None,\n",
    "            \"emotions\": emotion_sums\n",
    "        }\n",
    "\n",
    "def on_upload_change(change):\n",
    "    global uploaded_file_content, uploaded_file_name\n",
    "    with output_area:\n",
    "        clear_output()\n",
    "        if upload_button.value:\n",
    "            # Access the first element in the tuple and extract 'content' and 'name'\n",
    "            uploaded_file = upload_button.value[0]\n",
    "            uploaded_file_content = uploaded_file['content']\n",
    "            uploaded_file_name = uploaded_file['name']\n",
    "            print(f\"File '{uploaded_file_name}' uploaded successfully. Please click 'Submit' to process.\")\n",
    "        else:\n",
    "            print(\"Please upload a file.\")\n",
    "\n",
    "def on_submit_click(b):\n",
    "    with output_area:\n",
    "        if uploaded_file_content:\n",
    "            clear_output()\n",
    "            print(\"Processing the file...\")\n",
    "            result = analyze_image_emotions(uploaded_file_content)\n",
    "            print(\"Here is the result in JSON format:\")\n",
    "            print(json.dumps(result, indent=4))\n",
    "        else:\n",
    "            clear_output()\n",
    "            print(\"Please upload a file first.\")\n",
    "\n",
    "# Register the callback for the upload and submit buttons\n",
    "upload_button.observe(on_upload_change, names='value')\n",
    "submit_button.on_click(on_submit_click)\n",
    "\n",
    "# Display the widgets and the output area\n",
    "display(upload_button, submit_button, output_area)\n"
   ]
  },
  {
   "cell_type": "code",
   "execution_count": 11,
   "id": "eea0928a-d67a-4a34-a338-ea890168c37f",
   "metadata": {
    "tags": []
   },
   "outputs": [
    {
     "data": {
      "application/vnd.jupyter.widget-view+json": {
       "model_id": "6d8d9cdb17f14497883719f24170d053",
       "version_major": 2,
       "version_minor": 0
      },
      "text/plain": [
       "FileUpload(value=(), accept='image/*', description='Upload')"
      ]
     },
     "metadata": {},
     "output_type": "display_data"
    },
    {
     "data": {
      "application/vnd.jupyter.widget-view+json": {
       "model_id": "9b22f41da5994327a701c459f4a32676",
       "version_major": 2,
       "version_minor": 0
      },
      "text/plain": [
       "Button(description='Submit', style=ButtonStyle())"
      ]
     },
     "metadata": {},
     "output_type": "display_data"
    },
    {
     "data": {
      "application/vnd.jupyter.widget-view+json": {
       "model_id": "e374b4b6acea4c17a6d2125fbf29acb7",
       "version_major": 2,
       "version_minor": 0
      },
      "text/plain": [
       "Output()"
      ]
     },
     "metadata": {},
     "output_type": "display_data"
    }
   ],
   "source": [
    "import cv2\n",
    "from fer import FER\n",
    "import numpy as np\n",
    "from collections import Counter\n",
    "from IPython.display import display, clear_output\n",
    "import PIL.Image\n",
    "import io\n",
    "import ipywidgets as widgets\n",
    "import json\n",
    "\n",
    "# Initialize FER emotion detector\n",
    "emotion_detector = FER(mtcnn=True)\n",
    "\n",
    "# Widgets for file upload and processing\n",
    "upload_button = widgets.FileUpload(accept='image/*', multiple=False)\n",
    "submit_button = widgets.Button(description='Submit')\n",
    "output_area = widgets.Output()\n",
    "\n",
    "uploaded_file_content = None\n",
    "uploaded_file_name = None\n",
    "\n",
    "def analyze_image_emotions(image_file_content):\n",
    "    emotion_sums = {\n",
    "        'angry': 0,\n",
    "        'disgust': 0,\n",
    "        'fear': 0,\n",
    "        'happy': 0,\n",
    "        'sad': 0,\n",
    "        'surprise': 0,\n",
    "        'neutral': 0\n",
    "    }\n",
    "    all_emotions = []\n",
    "\n",
    "    # Convert the uploaded file content to an image\n",
    "    image_stream = io.BytesIO(image_file_content)\n",
    "    image_pil = PIL.Image.open(image_stream)\n",
    "    image_np = np.array(image_pil)\n",
    "\n",
    "    # Convert the image from RGB (PIL) to BGR (OpenCV)\n",
    "    image_bgr = cv2.cvtColor(image_np, cv2.COLOR_RGB2BGR)\n",
    "\n",
    "    # Resize the image to a consistent size for analysis\n",
    "    height, width = image_bgr.shape[:2]\n",
    "    aspect_ratio = width / height\n",
    "    new_height = 480\n",
    "    new_width = int(new_height * aspect_ratio)\n",
    "    image_resized = cv2.resize(image_bgr, (new_width, new_height))\n",
    "\n",
    "    # Analyze the emotions in the image\n",
    "    emotions = emotion_detector.detect_emotions(image_resized)\n",
    "    if emotions:\n",
    "        dominant_emotion = max(emotions[0]['emotions'], key=emotions[0]['emotions'].get)\n",
    "        all_emotions.append(dominant_emotion)\n",
    "\n",
    "        # Determine the predominant emotion\n",
    "        emotion_counts = Counter(all_emotions)\n",
    "        predominant_emotion = emotion_counts.most_common(1)[0][0] if all_emotions else None\n",
    "\n",
    "        return {\n",
    "            \"filename\": uploaded_file_name,\n",
    "            \"predominant_emotion\": predominant_emotion\n",
    "        }\n",
    "    else:\n",
    "        return {\n",
    "            \"filename\": uploaded_file_name,\n",
    "            \"predominant_emotion\": None\n",
    "        }\n",
    "\n",
    "def on_upload_change(change):\n",
    "    global uploaded_file_content, uploaded_file_name\n",
    "    with output_area:\n",
    "        clear_output()\n",
    "        if upload_button.value:\n",
    "            # Access the first element in the tuple directly\n",
    "            uploaded_file = upload_button.value[0]\n",
    "            uploaded_file_content = uploaded_file['content']\n",
    "            uploaded_file_name = uploaded_file['name']\n",
    "            print(f\"File '{uploaded_file_name}' uploaded successfully. Please click 'Submit' to process.\")\n",
    "        else:\n",
    "            print(\"Please upload a file.\")\n",
    "\n",
    "def on_submit_click(b):\n",
    "    with output_area:\n",
    "        if uploaded_file_content:\n",
    "            clear_output()\n",
    "            print(\"Processing the file...\")\n",
    "            result = analyze_image_emotions(uploaded_file_content)\n",
    "            print(\"Here is the result in JSON format:\")\n",
    "            print(json.dumps(result, indent=4))\n",
    "        else:\n",
    "            clear_output()\n",
    "            print(\"Please upload a file first.\")\n",
    "\n",
    "# Register the callback for the upload and submit buttons\n",
    "upload_button.observe(on_upload_change, names='value')\n",
    "submit_button.on_click(on_submit_click)\n",
    "\n",
    "# Display the widgets and the output area\n",
    "display(upload_button, submit_button, output_area)\n"
   ]
  },
  {
   "cell_type": "code",
   "execution_count": null,
   "id": "d50948ab-0925-41d4-9781-f52776801331",
   "metadata": {},
   "outputs": [],
   "source": []
  }
 ],
 "metadata": {
  "kernelspec": {
   "display_name": "Python 3 (ipykernel)",
   "language": "python",
   "name": "python3"
  },
  "language_info": {
   "codemirror_mode": {
    "name": "ipython",
    "version": 3
   },
   "file_extension": ".py",
   "mimetype": "text/x-python",
   "name": "python",
   "nbconvert_exporter": "python",
   "pygments_lexer": "ipython3",
   "version": "3.11.5"
  }
 },
 "nbformat": 4,
 "nbformat_minor": 5
}
